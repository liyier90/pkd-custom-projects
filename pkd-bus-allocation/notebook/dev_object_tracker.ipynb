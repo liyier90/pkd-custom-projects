{
 "cells": [
  {
   "cell_type": "code",
   "execution_count": null,
   "metadata": {},
   "outputs": [],
   "source": [
    "%load_ext autoreload\n",
    "%autoreload 2"
   ]
  },
  {
   "cell_type": "code",
   "execution_count": null,
   "metadata": {},
   "outputs": [],
   "source": [
    "import sys\n",
    "\n",
    "sys.path.insert(0, \"..\")\n",
    "\n",
    "from pathlib import Path\n",
    "\n",
    "import cv2\n",
    "import matplotlib.pyplot as plt\n",
    "import numpy as np\n",
    "\n",
    "from peekingduck.pipeline.nodes.draw.utils.bbox import draw_bboxes\n",
    "from peekingduck.pipeline.nodes.draw.utils.general import (\n",
    "    get_image_size,\n",
    "    project_points_onto_original_image,\n",
    ")\n",
    "\n",
    "from src.custom_nodes.draw.annotation import draw_annotations\n"
   ]
  },
  {
   "cell_type": "code",
   "execution_count": null,
   "metadata": {},
   "outputs": [],
   "source": [
    "def get_frame(frame_number):\n",
    "    return (\n",
    "        Path.cwd().parent\n",
    "        / \"data\"\n",
    "        / \"input\"\n",
    "        / \"video_1\"\n",
    "        / \"bus_boarding_alighting_frames\"\n",
    "        / f\"video_1_{frame_number}.jpg\"\n",
    "    )\n",
    "\n",
    "\n",
    "def preview_frame(frame_path):\n",
    "    frame = cv2.imread(str(frame_path))\n",
    "\n",
    "    _, ax = plt.subplots(1, 1, figsize=(10, 10))\n",
    "    ax.imshow(frame[:, :, ::-1])\n",
    "\n",
    "\n",
    "def preview_image(image):\n",
    "    _, ax = plt.subplots(1, 1, figsize=(10, 10))\n",
    "    ax.imshow(image[:, :, ::-1])\n"
   ]
  },
  {
   "cell_type": "code",
   "execution_count": null,
   "metadata": {},
   "outputs": [],
   "source": [
    "img_path_3441 = get_frame(3441)\n",
    "img_path_3445 = get_frame(3445)\n",
    "# img_path_3371 = get_frame(3371)\n"
   ]
  },
  {
   "cell_type": "code",
   "execution_count": null,
   "metadata": {},
   "outputs": [],
   "source": [
    "bboxes_3441 = np.array([[0.61, 0.31, 0.67, 0.6], [0.66, 0.32, 0.72, 0.59]])\n",
    "bbox_labels_3441 = np.array([\"person\", \"person\"])\n",
    "\n",
    "img_3441 = cv2.imread(str(img_path_3441))\n",
    "# draw_bboxes(img_3441, bboxes_3441, bbox_labels_3441, True)\n",
    "# preview_image(img_3441)\n"
   ]
  },
  {
   "cell_type": "code",
   "execution_count": null,
   "metadata": {},
   "outputs": [],
   "source": [
    "from sort import Sort"
   ]
  },
  {
   "cell_type": "code",
   "execution_count": null,
   "metadata": {},
   "outputs": [],
   "source": [
    "mot_tracker = Sort(\"csrt\")"
   ]
  },
  {
   "cell_type": "code",
   "execution_count": null,
   "metadata": {},
   "outputs": [],
   "source": [
    "track_ids = mot_tracker.update_and_get_tracks(img_3441, bboxes_3441)\n",
    "# track_ids = list(map(str, reversed(track_ids)))"
   ]
  },
  {
   "cell_type": "code",
   "execution_count": null,
   "metadata": {},
   "outputs": [],
   "source": [
    "annotations = [{\"track_id\": id, \"idx\": str(i)} for i, id in enumerate(track_ids)]\n",
    "img_3441_copy = img_3441.copy()\n",
    "draw_bboxes(img_3441_copy, bboxes_3441, bbox_labels_3441, True)\n",
    "draw_annotations(\n",
    "    img_3441_copy, bboxes_3441, annotations, (255, 0, 0), (0.2, 0.2), \"track_id\"\n",
    ")\n",
    "draw_annotations(\n",
    "    img_3441_copy, bboxes_3441, annotations, (255, 0, 0), (0.8, 0.8), \"idx\"\n",
    ")\n",
    "preview_image(img_3441_copy)\n"
   ]
  },
  {
   "cell_type": "code",
   "execution_count": null,
   "metadata": {},
   "outputs": [],
   "source": [
    "bboxes_3445 = np.array(\n",
    "    [[0.62, 0.32, 0.67, 0.59], [0.58, 0.34, 0.64, 0.59], [0.66, 0.34, 0.71, 0.59]]\n",
    ")\n",
    "bbox_labels_3445 = np.array([\"person\", \"person\", \"person\"])\n",
    "\n",
    "img_3445 = cv2.imread(str(img_path_3445))\n",
    "# draw_bboxes(img_3445, bboxes_3445, bbox_labels_3445, True)\n",
    "# annotations = [{\"idx\": str(i)} for i, _ in enumerate(bboxes_3445)]\n",
    "# draw_annotations(\n",
    "#     img_3445, bboxes_3445, annotations, (255, 0, 0), (0.8, 0.8), \"idx\"\n",
    "# )\n",
    "# preview_image(img_3445)\n"
   ]
  },
  {
   "cell_type": "code",
   "execution_count": null,
   "metadata": {},
   "outputs": [],
   "source": [
    "track_ids = mot_tracker.update_and_get_tracks(img_3445, bboxes_3445)\n",
    "# track_ids = list(map(str, rev'ersed(track_ids)))"
   ]
  },
  {
   "cell_type": "code",
   "execution_count": null,
   "metadata": {},
   "outputs": [],
   "source": [
    "annotations = [{\"track_id\": id, \"idx\": str(i)} for i, id in enumerate(track_ids)]\n",
    "img_3445_copy = img_3445.copy()\n",
    "draw_bboxes(img_3445_copy, bboxes_3445, bbox_labels_3445, True)\n",
    "draw_annotations(\n",
    "    img_3445_copy, bboxes_3445, annotations, (255, 0, 0), (0.2, 0.2), \"track_id\"\n",
    ")\n",
    "draw_annotations(\n",
    "    img_3445_copy, bboxes_3445, annotations, (255, 0, 0), (0.8, 0.8), \"idx\"\n",
    ")\n",
    "preview_image(img_3445_copy)\n"
   ]
  },
  {
   "cell_type": "code",
   "execution_count": null,
   "metadata": {},
   "outputs": [],
   "source": [
    "## Old code\n",
    "\n",
    "# bboxes_3365 = np.array([[0.64, 0.28, 0.69, 0.5], [0.72, 0.31, 0.77, 0.55]])\n",
    "# bbox_labels_3365 = np.array([\"person\", \"person\"])\n",
    "\n",
    "# img_3365 = cv2.imread(str(img_path_3365))\n",
    "# draw_bboxes(img_3365, bboxes_3365, bbox_labels_3365, True)\n",
    "# preview_image(img_3365)\n",
    "\n",
    "next_obj_id = 0\n",
    "tracked_dict = {}\n",
    "\n",
    "image_size_3441 = get_image_size(img_3441)\n",
    "bboxes_xywh_3441 = Utils.xyxyn2xywh(bboxes_3441, *image_size_3441)\n",
    "\n",
    "for bbox in bboxes_xywh_3441:\n",
    "    tracker = cv2.TrackerCSRT_create()\n",
    "    tracker.init(img_3441, tuple(bbox))\n",
    "    tracked_dict[next_obj_id] = {\"tracker\": tracker, \"bbox\": bbox}\n",
    "    next_obj_id += 1\n",
    "track_ids = list(map(str, tracked_dict.keys()))\n",
    "\n",
    "def iou(bbox, candidates):\n",
    "    bbox_tl, bbox_br = bbox[:2], bbox[:2] + bbox[2:]\n",
    "    candidates_tl = candidates[:, :2]\n",
    "    candidates_br = candidates[:, :2] + candidates[:, 2:]\n",
    "\n",
    "    top_left = np.c_[\n",
    "        np.maximum(bbox_tl[0], candidates_tl[:, 0])[:, np.newaxis],\n",
    "        np.maximum(bbox_tl[1], candidates_tl[:, 1])[:, np.newaxis],\n",
    "    ]\n",
    "    bottom_right = np.c_[\n",
    "        np.minimum(bbox_br[0], candidates_br[:, 0])[:, np.newaxis],\n",
    "        np.minimum(bbox_br[1], candidates_br[:, 1])[:, np.newaxis],\n",
    "    ]\n",
    "    width_height = np.maximum(0.0, bottom_right - top_left)\n",
    "\n",
    "    area_intersection = width_height.prod(axis=1)\n",
    "    area_bbox = bbox[2:].prod()\n",
    "    area_candidates = candidates[:, 2:].prod(axis=1)\n",
    "    return area_intersection / (area_bbox + area_candidates - area_intersection)\n",
    "\n",
    "\n",
    "image_size_3445 = get_image_size(img_3445)\n",
    "bboxes_xywh_3445 = xyxyn2xywh(bboxes_3445, *image_size_3445)\n",
    "\n",
    "obj_tags = [\"\"] * len(bboxes_xywh_3445)\n",
    "prev_tracked_bbox = [np.array(value[\"bbox\"]) for _, value in tracked_dict.items()]\n",
    "matching_dict = {}\n",
    "\n",
    "for bbox in bboxes_xywh_3445:\n",
    "    ious = iou(np.array(bbox), np.array(prev_tracked_bbox))\n",
    "    matching_dict[tuple(bbox)] = ious.argmax() if max(ious) >= 0.1 else None\n",
    "\n",
    "track_ids = []\n",
    "for key, value in matching_dict.items():\n",
    "    if value is not None:\n",
    "        track_ids.append(str(list(tracked_dict)[value]))\n",
    "    else:\n",
    "        tracker = cv2.TrackerCSRT_create()\n",
    "        tracker.init(img_3445, tuple(bbox))\n",
    "        tracked_dict[next_obj_id] = {\"tracker\": tracker, \"bbox\": bbox}\n",
    "        next_obj_id += 1\n",
    "        track_ids.append(str(list(tracked_dict)[-1]))\n",
    "\n",
    "for i, id in enumerate(track_ids):\n",
    "    if id not in obj_tags:\n",
    "        obj_tags[i] = id\n",
    "\n"
   ]
  }
 ],
 "metadata": {
  "interpreter": {
   "hash": "4366ecd830bd6df9cabee2743d04d95dbac46ad0e70406f2ede457d3e551b00f"
  },
  "kernelspec": {
   "display_name": "Python 3.8.11 64-bit ('pkd': conda)",
   "name": "python3"
  },
  "language_info": {
   "codemirror_mode": {
    "name": "ipython",
    "version": 3
   },
   "file_extension": ".py",
   "mimetype": "text/x-python",
   "name": "python",
   "nbconvert_exporter": "python",
   "pygments_lexer": "ipython3",
   "version": "3.8.11"
  },
  "orig_nbformat": 4
 },
 "nbformat": 4,
 "nbformat_minor": 2
}
