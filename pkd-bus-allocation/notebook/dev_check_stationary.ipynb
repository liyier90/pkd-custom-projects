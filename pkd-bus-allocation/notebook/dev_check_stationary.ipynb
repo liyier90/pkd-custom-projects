{
 "cells": [
  {
   "cell_type": "code",
   "execution_count": null,
   "metadata": {},
   "outputs": [],
   "source": [
    "%load_ext autoreload\n",
    "%autoreload 2"
   ]
  },
  {
   "cell_type": "code",
   "execution_count": null,
   "metadata": {},
   "outputs": [],
   "source": [
    "import sys\n",
    "\n",
    "sys.path.insert(0, \"..\")\n",
    "\n",
    "from pathlib import Path\n",
    "\n",
    "import cv2\n",
    "import matplotlib.pyplot as plt\n",
    "import numpy as np\n",
    "\n",
    "from peekingduck.pipeline.nodes.draw.utils.bbox import draw_bboxes\n",
    "from peekingduck.pipeline.nodes.draw.utils.general import get_image_size\n",
    "\n",
    "from src.custom_nodes.draw.annotation import draw_annotations\n"
   ]
  },
  {
   "cell_type": "code",
   "execution_count": null,
   "metadata": {},
   "outputs": [],
   "source": [
    "def get_frame(frame_number):\n",
    "    return (\n",
    "        Path.cwd().parent\n",
    "        / \"data\"\n",
    "        / \"input\"\n",
    "        / \"video_1\"\n",
    "        / \"bus_boarding_alighting_frames\"\n",
    "        / f\"video_1_{frame_number}.jpg\"\n",
    "    )\n",
    "\n",
    "\n",
    "def preview_frame(frame_path):\n",
    "    frame = cv2.imread(str(frame_path))\n",
    "\n",
    "    _, ax = plt.subplots(1, 1, figsize=(10, 10))\n",
    "    ax.imshow(frame[:, :, ::-1])\n",
    "\n",
    "\n",
    "def preview_image(image):\n",
    "    _, ax = plt.subplots(1, 1, figsize=(10, 10))\n",
    "    ax.imshow(image[:, :, ::-1])\n"
   ]
  },
  {
   "cell_type": "code",
   "execution_count": null,
   "metadata": {},
   "outputs": [],
   "source": [
    "img_path_3441 = get_frame(3441)\n",
    "img_path_3445 = get_frame(3445)\n",
    "# img_path_3371 = get_frame(3371)\n",
    "# preview_frame(img_path_3441)\n"
   ]
  },
  {
   "cell_type": "code",
   "execution_count": null,
   "metadata": {},
   "outputs": [],
   "source": [
    "from stationarity_tracker import StationarityTracker"
   ]
  },
  {
   "cell_type": "code",
   "execution_count": null,
   "metadata": {},
   "outputs": [],
   "source": [
    "bboxes_3441 = np.array([[0.32, 0.1, 0.62, 0.65], [0.67, 0.1, 0.82, 0.65]])\n",
    "bbox_labels_3441 = np.array([\"bus\", \"bus\"])\n",
    "obj_track_ids_3441 = np.array([\"1\", \"2\"])\n",
    "\n",
    "img_3441 = cv2.imread(str(img_path_3441))\n",
    "draw_bboxes(img_3441, bboxes_3441, bbox_labels_3441, True)\n",
    "preview_image(img_3441)\n"
   ]
  },
  {
   "cell_type": "code",
   "execution_count": null,
   "metadata": {},
   "outputs": [],
   "source": [
    "stationarity_tracker = StationarityTracker()"
   ]
  },
  {
   "cell_type": "code",
   "execution_count": null,
   "metadata": {},
   "outputs": [],
   "source": [
    "stationarity_tracker.update_and_get_statuses(img_3441, bboxes_3441, obj_track_ids_3441)"
   ]
  },
  {
   "cell_type": "code",
   "execution_count": null,
   "metadata": {},
   "outputs": [],
   "source": [
    "bboxes = np.array([[1, 2, 3, 4], [5, 6, 7, 8], [9, 0, 1, 2]])\n",
    "bbox_labels = np.array([\"bus\", \"bus\"])\n",
    "obj_track_ids = np.array([\"3\", \"4\", \"1\"])\n",
    "\n",
    "stationarity_tracker.update_and_get_statuses(img_3441, bboxes, obj_track_ids)"
   ]
  }
 ],
 "metadata": {
  "interpreter": {
   "hash": "4366ecd830bd6df9cabee2743d04d95dbac46ad0e70406f2ede457d3e551b00f"
  },
  "kernelspec": {
   "display_name": "Python 3.8.11 64-bit ('pkd': conda)",
   "name": "python3"
  },
  "language_info": {
   "codemirror_mode": {
    "name": "ipython",
    "version": 3
   },
   "file_extension": ".py",
   "mimetype": "text/x-python",
   "name": "python",
   "nbconvert_exporter": "python",
   "pygments_lexer": "ipython3",
   "version": "3.8.11"
  },
  "orig_nbformat": 4
 },
 "nbformat": 4,
 "nbformat_minor": 2
}
