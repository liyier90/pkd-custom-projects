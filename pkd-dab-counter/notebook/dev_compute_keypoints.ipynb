{
 "cells": [
  {
   "cell_type": "code",
   "execution_count": 1,
   "metadata": {},
   "outputs": [],
   "source": [
    "from pathlib import Path\n",
    "import re\n",
    "\n",
    "import cv2\n",
    "import matplotlib.pyplot as plt\n",
    "import numpy as np\n",
    "import pandas as pd\n"
   ]
  },
  {
   "cell_type": "code",
   "execution_count": 2,
   "metadata": {},
   "outputs": [],
   "source": [
    "csv_file = Path.cwd().parent / \"data\" / \"output\" / \"output_141021-17-30-35.csv\"\n",
    "df = pd.read_csv(csv_file)\n"
   ]
  },
  {
   "cell_type": "code",
   "execution_count": 3,
   "metadata": {},
   "outputs": [
    {
     "data": {
      "text/plain": [
       "250"
      ]
     },
     "execution_count": 3,
     "metadata": {},
     "output_type": "execute_result"
    }
   ],
   "source": [
    "len(df)\n"
   ]
  },
  {
   "cell_type": "code",
   "execution_count": 4,
   "metadata": {},
   "outputs": [
    {
     "data": {
      "text/plain": [
       "250"
      ]
     },
     "execution_count": 4,
     "metadata": {},
     "output_type": "execute_result"
    }
   ],
   "source": [
    "frame_dir = Path.cwd().parent / \"data\" / \"output\" / \"frames\"\n",
    "len(list(frame_dir.glob(\"*.jpg\")))\n"
   ]
  },
  {
   "cell_type": "code",
   "execution_count": 11,
   "metadata": {},
   "outputs": [],
   "source": [
    "keypoints = [\n",
    "    list(\n",
    "        map(\n",
    "            float,\n",
    "            re.sub(r\"\\s+\", \" \", keypoint.strip()[1:-1]).strip().split(\" \"),\n",
    "        )\n",
    "    )\n",
    "    for keypoint in df.iloc[212][\"keypoints\"][2:-2].split(\"\\n \")\n",
    "]\n",
    "keypoints = np.array([keypoints])\n"
   ]
  },
  {
   "cell_type": "code",
   "execution_count": 12,
   "metadata": {},
   "outputs": [],
   "source": [
    "img_path = Path.cwd().parent / \"data\" / \"input\" / \"frames\" / \"out-0212.jpg\"\n",
    "cap = cv2.VideoCapture(str(img_path))\n",
    "_, img = cap.read()\n"
   ]
  },
  {
   "cell_type": "code",
   "execution_count": 30,
   "metadata": {},
   "outputs": [],
   "source": [
    "L_SHOULDER = 5\n",
    "R_SHOULDER = 6\n",
    "L_ELBOW = 7\n",
    "R_ELBOW = 8\n",
    "L_WRIST = 9\n",
    "R_WRIST = 10\n",
    "\n",
    "L_ARM = [L_SHOULDER, L_ELBOW, L_WRIST]\n",
    "R_ARM = [R_SHOULDER, R_ELBOW, R_WRIST]\n",
    "\n",
    "l_arm_points = keypoints[0][L_ARM, :]\n",
    "r_arm_points = keypoints[0][R_ARM, :]\n",
    "\n",
    "\n",
    "def project_points_onto_original_image(points, image_size):\n",
    "    if len(points) == 0:\n",
    "        return []\n",
    "\n",
    "    points = points.reshape((-1, 2))\n",
    "\n",
    "    projected_points = np.array(points, dtype=np.float32)\n",
    "\n",
    "    width, height = image_size[0], image_size[1]\n",
    "    projected_points[:, 0] *= width\n",
    "    projected_points[:, 1] *= height\n",
    "\n",
    "    return projected_points\n",
    "\n",
    "\n",
    "# https://stackoverflow.com/questions/56710732\n",
    "def get_arm_angle(points, image_size):\n",
    "    projected_points = project_points_onto_original_image(points, image_size)\n",
    "    ba = projected_points[1] - projected_points[0]\n",
    "    bc = projected_points[1] - projected_points[2]\n",
    "    print(ba)\n",
    "    print(bc)\n",
    "    print(np.dot(ba, bc))\n",
    "    print(np.linalg.norm(ba))\n",
    "    print(np.linalg.norm(bc))\n",
    "    # print(np.dot(ba, bc) / (np.linalg.norm(ba) * np.linalg.norm(bc)))\n",
    "\n",
    "    norm_ba = np.linalg.norm(ba)\n",
    "    norm_bc = np.linalg.norm(bc)\n",
    "    if np.isclose(norm_ba, 0) or np.isclose(norm_bc, 0):\n",
    "        angle = 0\n",
    "    else:\n",
    "        angle = np.degrees(\n",
    "            np.arccos(np.clip(np.dot(ba, bc) / norm_ba / norm_bc, -1, 1))\n",
    "        )\n",
    "    return angle\n"
   ]
  },
  {
   "cell_type": "code",
   "execution_count": 17,
   "metadata": {},
   "outputs": [],
   "source": [
    "TOMATO = (77, 103, 255)\n",
    "POINT_RADIUS = 5\n",
    "\n",
    "\n",
    "def get_image_size(frame):\n",
    "    image_size = (frame.shape[1], frame.shape[0])\n",
    "    return image_size\n",
    "\n",
    "\n",
    "def project_points_onto_original_image(points, image_size):\n",
    "    if len(points) == 0:\n",
    "        return []\n",
    "\n",
    "    points = points.reshape((-1, 2))\n",
    "\n",
    "    projected_points = np.array(points, dtype=np.float32)\n",
    "\n",
    "    width, height = image_size[0], image_size[1]\n",
    "    projected_points[:, 0] *= width\n",
    "    projected_points[:, 1] *= height\n",
    "\n",
    "    return projected_points\n",
    "\n",
    "\n",
    "def draw_keypoints(\n",
    "    frame,\n",
    "    keypoints,\n",
    "    image_size,\n",
    "    keypoint_dot_color,\n",
    "    keypoint_dot_radius,\n",
    "):\n",
    "    img_keypoints = project_points_onto_original_image(keypoints, image_size)\n",
    "\n",
    "    for i, keypoint in enumerate(img_keypoints):\n",
    "        if i in L_ARM or i in R_ARM:\n",
    "            draw_one_keypoint_dot(\n",
    "                frame,\n",
    "                keypoint,\n",
    "                keypoint_dot_color,\n",
    "                keypoint_dot_radius,\n",
    "            )\n",
    "\n",
    "\n",
    "def draw_one_keypoint_dot(frame, keypoint, keypoint_dot_color, keypoint_dot_radius):\n",
    "    \"\"\"Draw single keypoint\"\"\"\n",
    "    cv2.circle(\n",
    "        frame,\n",
    "        (int(keypoint[0]), int(keypoint[1])),\n",
    "        keypoint_dot_radius,\n",
    "        keypoint_dot_color,\n",
    "        -1,\n",
    "    )\n",
    "\n",
    "\n",
    "def draw_human_keypoints(image, keypoints):\n",
    "    image_size = get_image_size(image)\n",
    "    num_persons = keypoints.shape[0]\n",
    "    for i in range(num_persons):\n",
    "        draw_keypoints(image, keypoints[i], image_size, TOMATO, POINT_RADIUS)\n"
   ]
  },
  {
   "cell_type": "code",
   "execution_count": 31,
   "metadata": {},
   "outputs": [
    {
     "name": "stdout",
     "output_type": "stream",
     "text": [
      "[153.30426   35.377884]\n",
      "[47.170593 23.585266]\n",
      "8065.85\n",
      "157.33337\n",
      "52.73831\n",
      "[-70.7558   -11.792648]\n",
      "[0. 0.]\n",
      "0.0\n",
      "71.73179\n",
      "0.0\n",
      "13.570393384716995\n",
      "0\n"
     ]
    }
   ],
   "source": [
    "img_copy = img.copy()\n",
    "keypoints_copy = keypoints.copy()\n",
    "# keypoints_copy[0][L_SHOULDER][0] = 0.1\n",
    "# keypoints_copy[0][L_SHOULDER][1] = 0.1\n",
    "# keypoints_copy[0][L_ELBOW][0] = 0.2\n",
    "# keypoints_copy[0][L_ELBOW][1] = 0.2\n",
    "# keypoints_copy[0][L_WRIST][0] = 0.25\n",
    "# keypoints_copy[0][L_WRIST][1] = 0.25\n",
    "l_arm_points = keypoints_copy[0][L_ARM, :]\n",
    "r_arm_points = keypoints_copy[0][R_ARM, :]\n",
    "\n",
    "image_size = get_image_size(img)\n",
    "l_angle = get_arm_angle(l_arm_points, image_size)\n",
    "r_angle = get_arm_angle(r_arm_points, image_size)\n",
    "print(l_angle)\n",
    "print(r_angle)\n",
    "# draw_human_keypoints(img_copy, keypoints_copy)\n",
    "\n",
    "# # fig, ax = plt.subplots(1, 2, figsize=(15, 15))\n",
    "# # ax[0].imshow(img[:, :, ::-1])\n",
    "# # ax[1].imshow(img_copy[:, :, ::-1])\n",
    "# fig, ax = plt.subplots(1, 1, figsize=(15, 15))\n",
    "# ax.imshow(img_copy[:, :, ::-1])\n"
   ]
  }
 ],
 "metadata": {
  "interpreter": {
   "hash": "4366ecd830bd6df9cabee2743d04d95dbac46ad0e70406f2ede457d3e551b00f"
  },
  "kernelspec": {
   "display_name": "Python 3.8.11 64-bit ('pkd': conda)",
   "name": "python3"
  },
  "language_info": {
   "codemirror_mode": {
    "name": "ipython",
    "version": 3
   },
   "file_extension": ".py",
   "mimetype": "text/x-python",
   "name": "python",
   "nbconvert_exporter": "python",
   "pygments_lexer": "ipython3",
   "version": "3.8.11"
  },
  "orig_nbformat": 4
 },
 "nbformat": 4,
 "nbformat_minor": 2
}
