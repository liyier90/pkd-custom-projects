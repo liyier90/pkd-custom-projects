{
 "cells": [
  {
   "cell_type": "markdown",
   "metadata": {},
   "source": [
    "# 1. Clone and install requirements\n",
    "\n",
    "Only install packages not found on Colab, use default Colab versions for everything else.\n",
    "\n",
    "Relevant package version on Colab:\n",
    "- numpy==1.19.5\n",
    "- opencv-contrib-python==4.1.2.30\n",
    "- opencv-python==4.1.2.30\n",
    "- scipy==1.4.1\n",
    "- torch @ https://download.pytorch.org/whl/cu111/torch-1.10.0%2Bcu111-cp37-cp37m-linux_x86_64.whl\n",
    "- torchvision @ https://download.pytorch.org/whl/cu111/torchvision-0.11.1%2Bcu111-cp37-cp37m-linux_x86_64.whl"
   ]
  },
  {
   "cell_type": "code",
   "execution_count": null,
   "metadata": {},
   "outputs": [],
   "source": [
    "!git clone https://github.com/liyier90/PeekingDuck.git\n",
    "%cd PeekingDuck\n",
    "!git checkout feat-mot-evaluation\n",
    "\n",
    "%cd ..\n",
    "!git clone https://github.com/liyier90/Towards-Realtime-MOT.git\n",
    "%cd Towards-Realtime-MOT\n",
    "!git checkout colab_eval\n",
    "\n",
    "%cd ..\n",
    "!git clone https://github.com/liyier90/pkd-custom-projects.git\n",
    "\n",
    "!pip install -q motmetrics cython_bbox lap colorama loguru"
   ]
  },
  {
   "cell_type": "markdown",
   "metadata": {},
   "source": [
    "# 2. Download dataset"
   ]
  },
  {
   "cell_type": "code",
   "execution_count": null,
   "metadata": {},
   "outputs": [],
   "source": [
    "!wget https://motchallenge.net/data/MOT16.zip\n",
    "!mkdir MOT16 && unzip -q MOT16.zip -d MOT16 && rm MOT16.zip"
   ]
  },
  {
   "cell_type": "markdown",
   "metadata": {},
   "source": [
    "At this point you should end up with the following directory structure:\n",
    "```\n",
    "/content\n",
    "+-MOT16\n",
    "+-PeekingDuck\n",
    "+-pkd-custom-projects\n",
    "| +-pkd-mot-evaluation\n",
    "| \\-...\n",
    "\\-Towards-Realtime-MOT\n",
    "```"
   ]
  },
  {
   "cell_type": "markdown",
   "metadata": {},
   "source": [
    "# 3. Navigate to `pkd-mot-evaluation` and evaluate PKD JDE"
   ]
  },
  {
   "cell_type": "code",
   "execution_count": null,
   "metadata": {},
   "outputs": [],
   "source": [
    "%cd pkd-custom-projects/pkd-mot-evaluation"
   ]
  },
  {
   "cell_type": "code",
   "execution_count": null,
   "metadata": {},
   "outputs": [],
   "source": [
    "!python ../../PeekingDuck --config_path colab_config.yml"
   ]
  },
  {
   "cell_type": "markdown",
   "metadata": {},
   "source": [
    "# 4. Navigate to `Towards-Realtime-MOT` and evaluate original JDE"
   ]
  },
  {
   "cell_type": "code",
   "execution_count": null,
   "metadata": {},
   "outputs": [],
   "source": [
    "%cd ../../Towards-Realtime-MOT"
   ]
  },
  {
   "cell_type": "code",
   "execution_count": null,
   "metadata": {},
   "outputs": [],
   "source": [
    "!python track.py --cfg /content/peekingduck_weights/jde/yolov3_864x480.cfg --weights /content/peekingduck_weights/jde/jde_864x480_uncertainty-stripped.pt"
   ]
  }
 ],
 "metadata": {
  "interpreter": {
   "hash": "feee6d24822f98af8a4399a97f98eb198e0951cdd010de89905bb325d8a6f996"
  },
  "kernelspec": {
   "display_name": "Python 3.7.11 64-bit ('pkd-dev-ci': conda)",
   "language": "python",
   "name": "python3"
  },
  "language_info": {
   "name": "python",
   "version": "3.7.11"
  },
  "orig_nbformat": 4
 },
 "nbformat": 4,
 "nbformat_minor": 2
}
